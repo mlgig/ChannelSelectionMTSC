{
 "cells": [
  {
   "cell_type": "code",
   "execution_count": 1,
   "metadata": {},
   "outputs": [],
   "source": [
    "import sys \n",
    "import os\n",
    "sys.path.insert(0, os.getcwd())\n",
    "sys.path.append(\".\")\n",
    "sys.path.append(\"..\")\n",
    "\n",
    "from sklearn.metrics import f1_score\n",
    "from sklearn.metrics import accuracy_score\n",
    "\n",
    "from sklearn.pipeline import Pipeline\n",
    "from sktime.transformations.panel.rocket import Rocket\n",
    "from sklearn.linear_model import RidgeClassifierCV\n",
    "from sktime.utils.data_io import load_from_tsfile_to_dataframe\n",
    "\n",
    "from sktime.classification.shapelet_based import MrSEQLClassifier\n",
    "from sktime.classification.dictionary_based import MUSE\n",
    "import time\n",
    "import numpy as np"
   ]
  },
  {
   "cell_type": "code",
   "execution_count": 2,
   "metadata": {},
   "outputs": [
    {
     "name": "stderr",
     "output_type": "stream",
     "text": [
      "/home/bhaskar/mtsc/lib/python3.6/site-packages/tslearn/bases/bases.py:15: UserWarning: h5py not installed, hdf5 features will not be supported.\n",
      "Install h5py to use hdf5 features: http://docs.h5py.org/\n",
      "  warn(h5py_msg)\n"
     ]
    }
   ],
   "source": [
    "from src.kmeans import kmeans\n",
    "from  src.classelbow import ElbowPair # ECP\n",
    "from src.elbow import elbow # ECS.."
   ]
  },
  {
   "cell_type": "code",
   "execution_count": 3,
   "metadata": {},
   "outputs": [],
   "source": [
    "# selects class prototype\n",
    "center='mad' # options: mean, median\n",
    "#elb = kmeans()\n",
    "#elb  = elbow(distance = 'eu', center=center, mc=mc, fft=fft) # Select elbow class sum\n",
    "elb = ElbowPair(distance = 'eu', center=center) # Selects elbow class Pair\n",
    "#elb = None\n",
    "\n",
    "    \n",
    "model = Pipeline(\n",
    "        [\n",
    "        ('classelbow', elb),\n",
    "        ('rocket', Rocket(random_state=0,normalise=False)),\n",
    "        ('model', RidgeClassifierCV(alphas=np.logspace(-3, 3, 10),normalize=True ))\n",
    "        #('SEQL', MrSEQLClassifier()),\n",
    "        #('weasel_muse', MUSE(random_state=0)),\n",
    "        ],\n",
    "        #verbose=True,\n",
    "        )"
   ]
  },
  {
   "cell_type": "code",
   "execution_count": 4,
   "metadata": {},
   "outputs": [
    {
     "name": "stdout",
     "output_type": "stream",
     "text": [
      "Untitled.ipynb\r\n"
     ]
    }
   ],
   "source": [
    "!ls"
   ]
  },
  {
   "cell_type": "code",
   "execution_count": 5,
   "metadata": {},
   "outputs": [],
   "source": [
    "train = \"../data/ArticularyWordRecognition/ArticularyWordRecognition_TRAIN.ts\"\n",
    "test = \"../data/ArticularyWordRecognition/ArticularyWordRecognition_TEST.ts\"\n",
    "\n",
    "train_x, train_y = load_from_tsfile_to_dataframe(train)\n",
    "test_x, test_y = load_from_tsfile_to_dataframe(test)"
   ]
  },
  {
   "cell_type": "code",
   "execution_count": 9,
   "metadata": {},
   "outputs": [
    {
     "name": "stdout",
     "output_type": "stream",
     "text": [
      "Centroid type: mad\n",
      "[]\n"
     ]
    }
   ],
   "source": [
    "model.fit(train_x, train_y)\n",
    "\n",
    "preds = model.predict(test_x)\n",
    "acc1 = accuracy_score(preds, test_y) * 100\n"
   ]
  },
  {
   "cell_type": "code",
   "execution_count": 11,
   "metadata": {},
   "outputs": [
    {
     "name": "stdout",
     "output_type": "stream",
     "text": [
      "99.33333333333333\n",
      "[0, 1, 2, 3, 4, 5, 6, 7, 8]\n"
     ]
    }
   ],
   "source": [
    "print(acc1)\n",
    "print(elb.relevant_dims)"
   ]
  },
  {
   "cell_type": "code",
   "execution_count": null,
   "metadata": {},
   "outputs": [],
   "source": []
  },
  {
   "cell_type": "code",
   "execution_count": null,
   "metadata": {},
   "outputs": [],
   "source": []
  }
 ],
 "metadata": {
  "kernelspec": {
   "display_name": "Python 3",
   "language": "python",
   "name": "python3"
  },
  "language_info": {
   "codemirror_mode": {
    "name": "ipython",
    "version": 3
   },
   "file_extension": ".py",
   "mimetype": "text/x-python",
   "name": "python",
   "nbconvert_exporter": "python",
   "pygments_lexer": "ipython3",
   "version": "3.6.9"
  }
 },
 "nbformat": 4,
 "nbformat_minor": 4
}
